{
 "cells": [
  {
   "cell_type": "markdown",
   "metadata": {},
   "source": [
    "# HEAT BALANCE FOR A GLASS MELTING FURNACE LOCATED IN XAQUIXE, MAGDALENA APASCO, OAXACA, MEXICO."
   ]
  },
  {
   "cell_type": "markdown",
   "metadata": {},
   "source": [
    "Xaquixe is a factory that produces glass artesanal pieces, it is located in Magdalena Apasco, Oaxaca, Mexico. Xaquixe is a word from zapoteco language that it means “En la cima de la montaña”, this factory uses the 95% of recycled glass and 5% of raw materials, also it uses recycled oil coming from 42 restaurants located in the Oaxaca city to cover one part of the combustion requirements in the ovens. The funder is Christian Thorton who also makes the glass pieces together with six workers (one woman and five men). For year Xaquixe produces 20 ton. of glass artesanal pieces."
   ]
  },
  {
   "cell_type": "markdown",
   "metadata": {},
   "source": [
    "![title](formulas/deword.png)"
   ]
  },
  {
   "cell_type": "markdown",
   "metadata": {},
   "source": [
    "![title](formulas/vasos2.png)"
   ]
  },
  {
   "cell_type": "markdown",
   "metadata": {},
   "source": [
    "## THE GLASS PIECES MANUFACTURING PROCESS"
   ]
  },
  {
   "cell_type": "markdown",
   "metadata": {},
   "source": [
    "The process begins with the recollection and breaking of the recycled glass, a determined quantity is supplied to the melting glass furnace, this furnace is formed for 2 ovens inside and they are separated by a refractory brick wall, each oven is supplied with propane gas and an air flow, also each oven has a door where the glass is provided or taken out, depending on the case. In the oven 2 is where the melting process it happens, the glass already melted goes through two holes to the oven 1, it is represented in the next images. "
   ]
  },
  {
   "cell_type": "markdown",
   "metadata": {},
   "source": [
    "![title](formulas/recycledglass.png)"
   ]
  },
  {
   "cell_type": "markdown",
   "metadata": {},
   "source": [
    "![title](formulas/horno.jpg)"
   ]
  },
  {
   "cell_type": "markdown",
   "metadata": {},
   "source": [
    "![title](formulas/horno1.jpg)"
   ]
  },
  {
   "cell_type": "markdown",
   "metadata": {},
   "source": [
    "![title](formulas/projectsolid.png)"
   ]
  },
  {
   "cell_type": "markdown",
   "metadata": {},
   "source": [
    "Notice: In the SolidWorks project, the oven 1 always has the square door and the oven 2 has the circle door."
   ]
  },
  {
   "cell_type": "markdown",
   "metadata": {},
   "source": [
    "After de melting process, a worker take out one portion of the melted glass from the oven 1 with a large pipe and he transport it to the workstation to make some glass piece, in the course if the glass piece is cooled, they put it into the glory hole oven 1 for a while to prevent is broken. Finally, the piece finished is put into the annealing oven where is kept at 500°C."
   ]
  },
  {
   "cell_type": "markdown",
   "metadata": {},
   "source": [
    "![title](formulas/workstation.png)"
   ]
  },
  {
   "cell_type": "markdown",
   "metadata": {},
   "source": [
    "## THE AIR ROUTE THROUG THE MELTING FURNACE"
   ]
  },
  {
   "cell_type": "markdown",
   "metadata": {},
   "source": [
    "First the air flow is supplied by a ventilator with a 280 m3/h flow rate. The air goes through the pipes until the heat exchanger and goes out the blue one. There isn’t contact between the fresh air and the heated air."
   ]
  },
  {
   "cell_type": "markdown",
   "metadata": {},
   "source": [
    "![title](formulas/importantparts.png)"
   ]
  },
  {
   "cell_type": "markdown",
   "metadata": {},
   "source": [
    "![title](formulas/ruteair.png)"
   ]
  },
  {
   "cell_type": "markdown",
   "metadata": {},
   "source": [
    "![title](formulas/ruteair1.png)"
   ]
  },
  {
   "cell_type": "markdown",
   "metadata": {},
   "source": [
    "![title](formulas/ruteair2.png)"
   ]
  },
  {
   "cell_type": "markdown",
   "metadata": {},
   "source": [
    "The preheated air goes through the blue pipes until inside the ovens, there the air is heated until 600°C, the exhaust air route is shown in the next figure. "
   ]
  },
  {
   "cell_type": "markdown",
   "metadata": {},
   "source": [
    "![title](formulas/ruteair3.png)"
   ]
  },
  {
   "cell_type": "markdown",
   "metadata": {},
   "source": [
    "Finally the two heated air flows are joined in just one flow, this flow goes into the annealing oven."
   ]
  },
  {
   "cell_type": "markdown",
   "metadata": {},
   "source": [
    "![title](formulas/ruteair4.png)"
   ]
  },
  {
   "cell_type": "markdown",
   "metadata": {},
   "source": [
    "![title](formulas/ruteair5.png)"
   ]
  },
  {
   "cell_type": "markdown",
   "metadata": {},
   "source": [
    "## HEAT BALANCE EQUATIONS FOR THE GLASS MELTING FURNACE"
   ]
  },
  {
   "cell_type": "markdown",
   "metadata": {},
   "source": [
    "The heat balance will be able to calculate for three operations forms in steady state when the glass is already melted, the first is at night when nobody is working in the factory, but the furnace is turned on, this case apply for the oven 1 and 2 because the furnace is only keeping the glass melting. The second operation form is when the people is working during the morning and afternoon, this case apply only for the oven 1, the furnace is turned on and keeping the glass melting but the difference is workers open the oven1’s door for a while to take out a portion of melted glass. The third operation form is when the furnace is filled in with recycled glass. In this project we will calculate the heat balance only for the first and second operation form."
   ]
  },
  {
   "cell_type": "markdown",
   "metadata": {},
   "source": [
    "![title](formulas/nomenclature.png)"
   ]
  },
  {
   "cell_type": "markdown",
   "metadata": {},
   "source": [
    "### FIRST OPERATION FORM "
   ]
  },
  {
   "cell_type": "markdown",
   "metadata": {},
   "source": [
    "This form applies for the two ovens. The characteristics are the ventilator is turned on, the furnace is supplied by propane and the glass inside the ovens is already melted but the principal characteristic is the doors aren’t opened. The heat input is supplied by propane (Hin) and by the heat exchanger (Hre), losses of heat take place for the air flow wich is lost to the annealing oven through the stack and for the heat lost through the furnace’s walls (Hwall and Hmg)."
   ]
  },
  {
   "cell_type": "markdown",
   "metadata": {},
   "source": [
    "![title](formulas/form1.png)"
   ]
  },
  {
   "cell_type": "markdown",
   "metadata": {},
   "source": [
    "Therefore, the heat balance equations can be represented in the next forms.\n"
   ]
  },
  {
   "cell_type": "markdown",
   "metadata": {},
   "source": [
    "HEAT BALANCE FOR OVEN 1"
   ]
  },
  {
   "cell_type": "markdown",
   "metadata": {},
   "source": [
    "![title](formulas/form1balance11.png)"
   ]
  },
  {
   "cell_type": "markdown",
   "metadata": {},
   "source": [
    "HEAT BALANCE FOR OVEN 2"
   ]
  },
  {
   "cell_type": "markdown",
   "metadata": {},
   "source": [
    "![title](formulas/form1balance11.png)"
   ]
  },
  {
   "cell_type": "markdown",
   "metadata": {},
   "source": [
    "#### FORMULAS FOR HEAT BALANCE FOR THE OVEN 1"
   ]
  },
  {
   "cell_type": "markdown",
   "metadata": {},
   "source": [
    "![title](formulas/oven12.png)"
   ]
  },
  {
   "cell_type": "markdown",
   "metadata": {},
   "source": [
    "![title](formulas/realmeasures.png)"
   ]
  },
  {
   "cell_type": "markdown",
   "metadata": {},
   "source": [
    "![title](formulas/baloven1.png)"
   ]
  },
  {
   "cell_type": "markdown",
   "metadata": {},
   "source": [
    "The 23.44 kW value was obtained for a previous analysis. "
   ]
  },
  {
   "cell_type": "markdown",
   "metadata": {},
   "source": [
    "##### How to calculate air volumetric flow"
   ]
  },
  {
   "cell_type": "markdown",
   "metadata": {},
   "source": [
    "![title](formulas/volumetrico1.png)"
   ]
  },
  {
   "cell_type": "markdown",
   "metadata": {},
   "source": [
    "##### How to calculate heat recovered by the exchanger "
   ]
  },
  {
   "cell_type": "markdown",
   "metadata": {},
   "source": [
    "![title](formulas/hre12.png)"
   ]
  },
  {
   "cell_type": "markdown",
   "metadata": {},
   "source": [
    "##### How to calculate heat lost by the exhaust air in the beginning of the stack"
   ]
  },
  {
   "cell_type": "markdown",
   "metadata": {},
   "source": [
    "![title](formulas/hoff11.png)"
   ]
  },
  {
   "cell_type": "markdown",
   "metadata": {},
   "source": [
    "##### How to calculate heat lost by the exhaust air in the end of the stack"
   ]
  },
  {
   "cell_type": "markdown",
   "metadata": {},
   "source": [
    "![title](formulas/hexhaust11.png)"
   ]
  },
  {
   "cell_type": "markdown",
   "metadata": {},
   "source": [
    "##### How to calculate heat lost through the stack's walls"
   ]
  },
  {
   "cell_type": "markdown",
   "metadata": {},
   "source": [
    "![title](formulas/wstack1.png)"
   ]
  },
  {
   "cell_type": "markdown",
   "metadata": {},
   "source": [
    "The next step is calculate the heat lost through the furnace’s walls Hwall and Hmg are calculated using the next diagram and formula. Also we need to use the surface's temperatures, areas and the insulations lenght, all those values are in \"TEMP AND DIAGRAMS\" JUPYTER NOTEBOOK."
   ]
  },
  {
   "cell_type": "markdown",
   "metadata": {},
   "source": [
    "![title](formulas/wall1.png)"
   ]
  },
  {
   "cell_type": "markdown",
   "metadata": {},
   "source": [
    "![title](formulas/wall2.png)"
   ]
  },
  {
   "cell_type": "markdown",
   "metadata": {},
   "source": [
    "##### How to calculate heat lost through the walls in contact with the air inside the oven"
   ]
  },
  {
   "cell_type": "markdown",
   "metadata": {},
   "source": [
    "The Hwall will be the sum of the heat lost thorugh the walls in contact with the air inside the oven. we are supposing the T_si9 until T_si12 are 1500°C, this is the maximum temperature that support the refractory brick and the T_so9 until T_so12 can be measured."
   ]
  },
  {
   "cell_type": "markdown",
   "metadata": {},
   "source": [
    "![title](formulas/walloven12.png)"
   ]
  },
  {
   "cell_type": "markdown",
   "metadata": {},
   "source": [
    "##### How to calculate heat lost through the walls in contact with the melted glass inside the oven"
   ]
  },
  {
   "cell_type": "markdown",
   "metadata": {},
   "source": [
    "Hmg is the sum of the heat lost through the walls in contact with the melted glass inside the oven 1, the T_mg1=1100°C is known and the T_so13 until T_so16 can be measured. "
   ]
  },
  {
   "cell_type": "markdown",
   "metadata": {},
   "source": [
    "![title](formulas/mgoven12.png)"
   ]
  },
  {
   "cell_type": "markdown",
   "metadata": {},
   "source": [
    "#### FORMULAS FOR HEAT BALANCE FOR THE OVEN 2"
   ]
  },
  {
   "cell_type": "markdown",
   "metadata": {},
   "source": [
    "![title](formulas/oven2.png)"
   ]
  },
  {
   "cell_type": "markdown",
   "metadata": {},
   "source": [
    "![title](formulas/realmeasures2.png)"
   ]
  },
  {
   "cell_type": "markdown",
   "metadata": {},
   "source": [
    "![title](formulas/baloven2.png)"
   ]
  },
  {
   "cell_type": "markdown",
   "metadata": {},
   "source": [
    "The 39.56 kW value was obtained for a previous analysis. "
   ]
  },
  {
   "cell_type": "markdown",
   "metadata": {},
   "source": [
    "##### How to calculate air volumetric flow"
   ]
  },
  {
   "cell_type": "markdown",
   "metadata": {},
   "source": [
    "![title](formulas/volumetrico1.png)"
   ]
  },
  {
   "cell_type": "markdown",
   "metadata": {},
   "source": [
    "##### How to calculate heat recovered by the exchanger "
   ]
  },
  {
   "cell_type": "markdown",
   "metadata": {},
   "source": [
    "![title](formulas/hre12.png)"
   ]
  },
  {
   "cell_type": "markdown",
   "metadata": {},
   "source": [
    "##### How to calculate heat lost by the exhaust air in the beginning of the stack"
   ]
  },
  {
   "cell_type": "markdown",
   "metadata": {},
   "source": [
    "![title](formulas/hoff11.png)"
   ]
  },
  {
   "cell_type": "markdown",
   "metadata": {},
   "source": [
    "##### How to calculate heat lost by the exhaust air in the end of the stack"
   ]
  },
  {
   "cell_type": "markdown",
   "metadata": {},
   "source": [
    "![title](formulas/hexhaust11.png)"
   ]
  },
  {
   "cell_type": "markdown",
   "metadata": {},
   "source": [
    "##### How to calculate heat lost through the stack's walls"
   ]
  },
  {
   "cell_type": "markdown",
   "metadata": {},
   "source": [
    "![title](formulas/wstack1.png)"
   ]
  },
  {
   "cell_type": "markdown",
   "metadata": {},
   "source": [
    "The heat lost Hwall and Hwg is calculated of the same form that the oven 1, only we need to change the nomenclature."
   ]
  },
  {
   "cell_type": "markdown",
   "metadata": {},
   "source": [
    "##### How to calculate heat lost through the walls in contact with the air inside the oven"
   ]
  },
  {
   "cell_type": "markdown",
   "metadata": {},
   "source": [
    "The Hwall will be the sum of the heat lost thorugh the walls in contact with the air inside the oven. we are supposing that the T_si1 until T_si4 are 850°C, this is the maximum temperature that support the refractory brick and the T_so1 until T_so4 can be measured."
   ]
  },
  {
   "cell_type": "markdown",
   "metadata": {},
   "source": [
    "![title](formulas/walloven2.png)"
   ]
  },
  {
   "cell_type": "markdown",
   "metadata": {},
   "source": [
    "##### How to calculate heat lost through the walls in contact with the melted glass inside the oven"
   ]
  },
  {
   "cell_type": "markdown",
   "metadata": {},
   "source": [
    "Hmg is the sum of the heat lost through the walls in contact with the melted glass inside the oven 2, the T_mg2=1300°C, this value was given by Christian Thorton, and the T_so5 until T_so8 can be measured. "
   ]
  },
  {
   "cell_type": "markdown",
   "metadata": {},
   "source": [
    "![title](formulas/mgoven2.png)"
   ]
  },
  {
   "cell_type": "markdown",
   "metadata": {},
   "source": [
    "ALL CALCULATIONS ARE IN \"FIRSTFORM\" JUPYTER NOTEBOOK"
   ]
  },
  {
   "cell_type": "markdown",
   "metadata": {},
   "source": [
    "## SECOND OPERATION FORM"
   ]
  },
  {
   "cell_type": "markdown",
   "metadata": {},
   "source": [
    "This form applies only for the oven 1 when people is working, therefore the workers open the door for a while to take out a portion of melted glass, then loss of heat take a place in a new form, the heat lost through the oven's door.\n",
    "Due the continuity theorem, the sum of the air flows inlet must be equal to the sum of the air flows outlet, then we know the air flow inlet is equal to 222 m3/h and when this form operation happens the air flow inlet is divided in two ways, flow through the door and flow through the stack.\n"
   ]
  },
  {
   "cell_type": "markdown",
   "metadata": {},
   "source": [
    "![title](formulas/operation2flow.png)"
   ]
  },
  {
   "cell_type": "markdown",
   "metadata": {},
   "source": [
    "![title](formulas/theorem.png)"
   ]
  },
  {
   "cell_type": "markdown",
   "metadata": {},
   "source": [
    "Therefore"
   ]
  },
  {
   "cell_type": "markdown",
   "metadata": {},
   "source": [
    "![title](formulas/theorem2.png)"
   ]
  },
  {
   "cell_type": "markdown",
   "metadata": {},
   "source": [
    "We can calculate the air flow through the door, only we need to know the velocity of air out and the door’s area. Then we can apply this formula"
   ]
  },
  {
   "cell_type": "markdown",
   "metadata": {},
   "source": [
    "![title](formulas/vdoor.png)"
   ]
  },
  {
   "cell_type": "markdown",
   "metadata": {},
   "source": [
    "But, at the moment we don’t know the air velocity and the door’s area, then we are supposing a factor that means the portion of flow that goes through the door for example f= 1/3. Then the flow formulas can be represented in the next form."
   ]
  },
  {
   "cell_type": "markdown",
   "metadata": {},
   "source": [
    "![kdkdkd](formulas/vdoor3.png)"
   ]
  },
  {
   "cell_type": "markdown",
   "metadata": {},
   "source": [
    "And now, only we need to reformulate the Hoff and Hexhaust, also we need to add the Hdoor, all the temperatures values will be the same that the first operation form."
   ]
  },
  {
   "cell_type": "markdown",
   "metadata": {},
   "source": [
    "![title](formulas/reformulate3.png)"
   ]
  },
  {
   "cell_type": "markdown",
   "metadata": {},
   "source": [
    "ALL CALCULATIONS ARE IN \"SECONDFORM\" JUPYTER NOTEBOOK"
   ]
  },
  {
   "cell_type": "code",
   "execution_count": null,
   "metadata": {},
   "outputs": [],
   "source": []
  }
 ],
 "metadata": {
  "kernelspec": {
   "display_name": "Python 3",
   "language": "python",
   "name": "python3"
  },
  "language_info": {
   "codemirror_mode": {
    "name": "ipython",
    "version": 3
   },
   "file_extension": ".py",
   "mimetype": "text/x-python",
   "name": "python",
   "nbconvert_exporter": "python",
   "pygments_lexer": "ipython3",
   "version": "3.7.4"
  }
 },
 "nbformat": 4,
 "nbformat_minor": 2
}
